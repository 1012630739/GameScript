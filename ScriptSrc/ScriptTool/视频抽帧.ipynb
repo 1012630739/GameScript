{
 "cells": [
  {
   "cell_type": "code",
   "execution_count": 2,
   "id": "18c33ccd",
   "metadata": {},
   "outputs": [],
   "source": [
    "import cv2\n",
    "import matplotlib.pyplot as plt\n",
    "\n",
    "video_path = \"./tmxy/tian_tian/video/tmxy_tian_tian.mp4\"\n",
    "\n",
    "image_path = \"./tmxy/tian_tian/image/\"\n",
    "\n",
    "# 打开视频文件\n",
    "video = cv2.VideoCapture(video_path)\n",
    "save_step = 10\n",
    "num = (0*save_step)\n",
    "\n",
    "while True:\n",
    "    ret, frame = video.read()\n",
    "    if not ret:\n",
    "        break\n",
    "    num += 1\n",
    "    if num % save_step == 0:\n",
    "        cv2.imwrite(image_path + str((int)(num/save_step)) + \".jpg\", frame)"
   ]
  }
 ],
 "metadata": {
  "kernelspec": {
   "display_name": "yolov5",
   "language": "python",
   "name": "python3"
  },
  "language_info": {
   "codemirror_mode": {
    "name": "ipython",
    "version": 3
   },
   "file_extension": ".py",
   "mimetype": "text/x-python",
   "name": "python",
   "nbconvert_exporter": "python",
   "pygments_lexer": "ipython3",
   "version": "3.8.20"
  }
 },
 "nbformat": 4,
 "nbformat_minor": 5
}
